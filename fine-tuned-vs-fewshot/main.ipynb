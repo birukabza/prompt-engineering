{
  "nbformat": 4,
  "nbformat_minor": 0,
  "metadata": {
    "colab": {
      "provenance": [],
      "gpuType": "T4"
    },
    "kernelspec": {
      "name": "python3",
      "display_name": "Python 3"
    },
    "language_info": {
      "name": "python"
    },
    "accelerator": "GPU",
    "widgets": {
      "application/vnd.jupyter.widget-state+json": {
        "cbcdd9ad9ee24f35a8bef769e466674b": {
          "model_module": "@jupyter-widgets/controls",
          "model_name": "HBoxModel",
          "model_module_version": "1.5.0",
          "state": {
            "_dom_classes": [],
            "_model_module": "@jupyter-widgets/controls",
            "_model_module_version": "1.5.0",
            "_model_name": "HBoxModel",
            "_view_count": null,
            "_view_module": "@jupyter-widgets/controls",
            "_view_module_version": "1.5.0",
            "_view_name": "HBoxView",
            "box_style": "",
            "children": [
              "IPY_MODEL_cb1ffaad533f44dabb109b695e1f4861",
              "IPY_MODEL_3888d05488ce4d4d9a48bcedb8295250",
              "IPY_MODEL_23cf0c653f664c89b08b08f57b24ea36"
            ],
            "layout": "IPY_MODEL_086fd778e77a413bad4ec45c1a2a5f8e"
          }
        },
        "cb1ffaad533f44dabb109b695e1f4861": {
          "model_module": "@jupyter-widgets/controls",
          "model_name": "HTMLModel",
          "model_module_version": "1.5.0",
          "state": {
            "_dom_classes": [],
            "_model_module": "@jupyter-widgets/controls",
            "_model_module_version": "1.5.0",
            "_model_name": "HTMLModel",
            "_view_count": null,
            "_view_module": "@jupyter-widgets/controls",
            "_view_module_version": "1.5.0",
            "_view_name": "HTMLView",
            "description": "",
            "description_tooltip": null,
            "layout": "IPY_MODEL_4b2499346fcc473da9314298a5248d23",
            "placeholder": "​",
            "style": "IPY_MODEL_c89701d30c9049a19ea6fafc7a0904ce",
            "value": "Map: 100%"
          }
        },
        "3888d05488ce4d4d9a48bcedb8295250": {
          "model_module": "@jupyter-widgets/controls",
          "model_name": "FloatProgressModel",
          "model_module_version": "1.5.0",
          "state": {
            "_dom_classes": [],
            "_model_module": "@jupyter-widgets/controls",
            "_model_module_version": "1.5.0",
            "_model_name": "FloatProgressModel",
            "_view_count": null,
            "_view_module": "@jupyter-widgets/controls",
            "_view_module_version": "1.5.0",
            "_view_name": "ProgressView",
            "bar_style": "success",
            "description": "",
            "description_tooltip": null,
            "layout": "IPY_MODEL_bd3ef1c77e684b6580abafd1105a76f5",
            "max": 16000,
            "min": 0,
            "orientation": "horizontal",
            "style": "IPY_MODEL_cec3a63c612041ffb6447574e768ddce",
            "value": 16000
          }
        },
        "23cf0c653f664c89b08b08f57b24ea36": {
          "model_module": "@jupyter-widgets/controls",
          "model_name": "HTMLModel",
          "model_module_version": "1.5.0",
          "state": {
            "_dom_classes": [],
            "_model_module": "@jupyter-widgets/controls",
            "_model_module_version": "1.5.0",
            "_model_name": "HTMLModel",
            "_view_count": null,
            "_view_module": "@jupyter-widgets/controls",
            "_view_module_version": "1.5.0",
            "_view_name": "HTMLView",
            "description": "",
            "description_tooltip": null,
            "layout": "IPY_MODEL_1a106e2c1cea40ec834a96c405ea6cf7",
            "placeholder": "​",
            "style": "IPY_MODEL_9b785632e3ca47ff9324798a296895ff",
            "value": " 16000/16000 [00:06&lt;00:00, 3745.69 examples/s]"
          }
        },
        "086fd778e77a413bad4ec45c1a2a5f8e": {
          "model_module": "@jupyter-widgets/base",
          "model_name": "LayoutModel",
          "model_module_version": "1.2.0",
          "state": {
            "_model_module": "@jupyter-widgets/base",
            "_model_module_version": "1.2.0",
            "_model_name": "LayoutModel",
            "_view_count": null,
            "_view_module": "@jupyter-widgets/base",
            "_view_module_version": "1.2.0",
            "_view_name": "LayoutView",
            "align_content": null,
            "align_items": null,
            "align_self": null,
            "border": null,
            "bottom": null,
            "display": null,
            "flex": null,
            "flex_flow": null,
            "grid_area": null,
            "grid_auto_columns": null,
            "grid_auto_flow": null,
            "grid_auto_rows": null,
            "grid_column": null,
            "grid_gap": null,
            "grid_row": null,
            "grid_template_areas": null,
            "grid_template_columns": null,
            "grid_template_rows": null,
            "height": null,
            "justify_content": null,
            "justify_items": null,
            "left": null,
            "margin": null,
            "max_height": null,
            "max_width": null,
            "min_height": null,
            "min_width": null,
            "object_fit": null,
            "object_position": null,
            "order": null,
            "overflow": null,
            "overflow_x": null,
            "overflow_y": null,
            "padding": null,
            "right": null,
            "top": null,
            "visibility": null,
            "width": null
          }
        },
        "4b2499346fcc473da9314298a5248d23": {
          "model_module": "@jupyter-widgets/base",
          "model_name": "LayoutModel",
          "model_module_version": "1.2.0",
          "state": {
            "_model_module": "@jupyter-widgets/base",
            "_model_module_version": "1.2.0",
            "_model_name": "LayoutModel",
            "_view_count": null,
            "_view_module": "@jupyter-widgets/base",
            "_view_module_version": "1.2.0",
            "_view_name": "LayoutView",
            "align_content": null,
            "align_items": null,
            "align_self": null,
            "border": null,
            "bottom": null,
            "display": null,
            "flex": null,
            "flex_flow": null,
            "grid_area": null,
            "grid_auto_columns": null,
            "grid_auto_flow": null,
            "grid_auto_rows": null,
            "grid_column": null,
            "grid_gap": null,
            "grid_row": null,
            "grid_template_areas": null,
            "grid_template_columns": null,
            "grid_template_rows": null,
            "height": null,
            "justify_content": null,
            "justify_items": null,
            "left": null,
            "margin": null,
            "max_height": null,
            "max_width": null,
            "min_height": null,
            "min_width": null,
            "object_fit": null,
            "object_position": null,
            "order": null,
            "overflow": null,
            "overflow_x": null,
            "overflow_y": null,
            "padding": null,
            "right": null,
            "top": null,
            "visibility": null,
            "width": null
          }
        },
        "c89701d30c9049a19ea6fafc7a0904ce": {
          "model_module": "@jupyter-widgets/controls",
          "model_name": "DescriptionStyleModel",
          "model_module_version": "1.5.0",
          "state": {
            "_model_module": "@jupyter-widgets/controls",
            "_model_module_version": "1.5.0",
            "_model_name": "DescriptionStyleModel",
            "_view_count": null,
            "_view_module": "@jupyter-widgets/base",
            "_view_module_version": "1.2.0",
            "_view_name": "StyleView",
            "description_width": ""
          }
        },
        "bd3ef1c77e684b6580abafd1105a76f5": {
          "model_module": "@jupyter-widgets/base",
          "model_name": "LayoutModel",
          "model_module_version": "1.2.0",
          "state": {
            "_model_module": "@jupyter-widgets/base",
            "_model_module_version": "1.2.0",
            "_model_name": "LayoutModel",
            "_view_count": null,
            "_view_module": "@jupyter-widgets/base",
            "_view_module_version": "1.2.0",
            "_view_name": "LayoutView",
            "align_content": null,
            "align_items": null,
            "align_self": null,
            "border": null,
            "bottom": null,
            "display": null,
            "flex": null,
            "flex_flow": null,
            "grid_area": null,
            "grid_auto_columns": null,
            "grid_auto_flow": null,
            "grid_auto_rows": null,
            "grid_column": null,
            "grid_gap": null,
            "grid_row": null,
            "grid_template_areas": null,
            "grid_template_columns": null,
            "grid_template_rows": null,
            "height": null,
            "justify_content": null,
            "justify_items": null,
            "left": null,
            "margin": null,
            "max_height": null,
            "max_width": null,
            "min_height": null,
            "min_width": null,
            "object_fit": null,
            "object_position": null,
            "order": null,
            "overflow": null,
            "overflow_x": null,
            "overflow_y": null,
            "padding": null,
            "right": null,
            "top": null,
            "visibility": null,
            "width": null
          }
        },
        "cec3a63c612041ffb6447574e768ddce": {
          "model_module": "@jupyter-widgets/controls",
          "model_name": "ProgressStyleModel",
          "model_module_version": "1.5.0",
          "state": {
            "_model_module": "@jupyter-widgets/controls",
            "_model_module_version": "1.5.0",
            "_model_name": "ProgressStyleModel",
            "_view_count": null,
            "_view_module": "@jupyter-widgets/base",
            "_view_module_version": "1.2.0",
            "_view_name": "StyleView",
            "bar_color": null,
            "description_width": ""
          }
        },
        "1a106e2c1cea40ec834a96c405ea6cf7": {
          "model_module": "@jupyter-widgets/base",
          "model_name": "LayoutModel",
          "model_module_version": "1.2.0",
          "state": {
            "_model_module": "@jupyter-widgets/base",
            "_model_module_version": "1.2.0",
            "_model_name": "LayoutModel",
            "_view_count": null,
            "_view_module": "@jupyter-widgets/base",
            "_view_module_version": "1.2.0",
            "_view_name": "LayoutView",
            "align_content": null,
            "align_items": null,
            "align_self": null,
            "border": null,
            "bottom": null,
            "display": null,
            "flex": null,
            "flex_flow": null,
            "grid_area": null,
            "grid_auto_columns": null,
            "grid_auto_flow": null,
            "grid_auto_rows": null,
            "grid_column": null,
            "grid_gap": null,
            "grid_row": null,
            "grid_template_areas": null,
            "grid_template_columns": null,
            "grid_template_rows": null,
            "height": null,
            "justify_content": null,
            "justify_items": null,
            "left": null,
            "margin": null,
            "max_height": null,
            "max_width": null,
            "min_height": null,
            "min_width": null,
            "object_fit": null,
            "object_position": null,
            "order": null,
            "overflow": null,
            "overflow_x": null,
            "overflow_y": null,
            "padding": null,
            "right": null,
            "top": null,
            "visibility": null,
            "width": null
          }
        },
        "9b785632e3ca47ff9324798a296895ff": {
          "model_module": "@jupyter-widgets/controls",
          "model_name": "DescriptionStyleModel",
          "model_module_version": "1.5.0",
          "state": {
            "_model_module": "@jupyter-widgets/controls",
            "_model_module_version": "1.5.0",
            "_model_name": "DescriptionStyleModel",
            "_view_count": null,
            "_view_module": "@jupyter-widgets/base",
            "_view_module_version": "1.2.0",
            "_view_name": "StyleView",
            "description_width": ""
          }
        },
        "a554ddf1ff8a473da0751d5f33aa5146": {
          "model_module": "@jupyter-widgets/controls",
          "model_name": "HBoxModel",
          "model_module_version": "1.5.0",
          "state": {
            "_dom_classes": [],
            "_model_module": "@jupyter-widgets/controls",
            "_model_module_version": "1.5.0",
            "_model_name": "HBoxModel",
            "_view_count": null,
            "_view_module": "@jupyter-widgets/controls",
            "_view_module_version": "1.5.0",
            "_view_name": "HBoxView",
            "box_style": "",
            "children": [
              "IPY_MODEL_9f479f058fc14514b3f0035155b7a65f",
              "IPY_MODEL_580b2fd4e5f14881b4a0a1321e703592",
              "IPY_MODEL_53215592463c41589ba8ddd89b923b37"
            ],
            "layout": "IPY_MODEL_c5282c825c1847bd8c4c356a790506d1"
          }
        },
        "9f479f058fc14514b3f0035155b7a65f": {
          "model_module": "@jupyter-widgets/controls",
          "model_name": "HTMLModel",
          "model_module_version": "1.5.0",
          "state": {
            "_dom_classes": [],
            "_model_module": "@jupyter-widgets/controls",
            "_model_module_version": "1.5.0",
            "_model_name": "HTMLModel",
            "_view_count": null,
            "_view_module": "@jupyter-widgets/controls",
            "_view_module_version": "1.5.0",
            "_view_name": "HTMLView",
            "description": "",
            "description_tooltip": null,
            "layout": "IPY_MODEL_5106979c85ce40c087203d3eee6a9f6e",
            "placeholder": "​",
            "style": "IPY_MODEL_65e8bfe0396e43a0a40557fa91126b7f",
            "value": "Map: 100%"
          }
        },
        "580b2fd4e5f14881b4a0a1321e703592": {
          "model_module": "@jupyter-widgets/controls",
          "model_name": "FloatProgressModel",
          "model_module_version": "1.5.0",
          "state": {
            "_dom_classes": [],
            "_model_module": "@jupyter-widgets/controls",
            "_model_module_version": "1.5.0",
            "_model_name": "FloatProgressModel",
            "_view_count": null,
            "_view_module": "@jupyter-widgets/controls",
            "_view_module_version": "1.5.0",
            "_view_name": "ProgressView",
            "bar_style": "success",
            "description": "",
            "description_tooltip": null,
            "layout": "IPY_MODEL_223499a6c3804a9baaaebde8b847e24e",
            "max": 2000,
            "min": 0,
            "orientation": "horizontal",
            "style": "IPY_MODEL_232b67d70f3d4f3381719963f706794f",
            "value": 2000
          }
        },
        "53215592463c41589ba8ddd89b923b37": {
          "model_module": "@jupyter-widgets/controls",
          "model_name": "HTMLModel",
          "model_module_version": "1.5.0",
          "state": {
            "_dom_classes": [],
            "_model_module": "@jupyter-widgets/controls",
            "_model_module_version": "1.5.0",
            "_model_name": "HTMLModel",
            "_view_count": null,
            "_view_module": "@jupyter-widgets/controls",
            "_view_module_version": "1.5.0",
            "_view_name": "HTMLView",
            "description": "",
            "description_tooltip": null,
            "layout": "IPY_MODEL_5c292679c08340a7b2e004a6ae916582",
            "placeholder": "​",
            "style": "IPY_MODEL_0100ef30655f4fe8b132f2695e6c1b56",
            "value": " 2000/2000 [00:00&lt;00:00, 3939.13 examples/s]"
          }
        },
        "c5282c825c1847bd8c4c356a790506d1": {
          "model_module": "@jupyter-widgets/base",
          "model_name": "LayoutModel",
          "model_module_version": "1.2.0",
          "state": {
            "_model_module": "@jupyter-widgets/base",
            "_model_module_version": "1.2.0",
            "_model_name": "LayoutModel",
            "_view_count": null,
            "_view_module": "@jupyter-widgets/base",
            "_view_module_version": "1.2.0",
            "_view_name": "LayoutView",
            "align_content": null,
            "align_items": null,
            "align_self": null,
            "border": null,
            "bottom": null,
            "display": null,
            "flex": null,
            "flex_flow": null,
            "grid_area": null,
            "grid_auto_columns": null,
            "grid_auto_flow": null,
            "grid_auto_rows": null,
            "grid_column": null,
            "grid_gap": null,
            "grid_row": null,
            "grid_template_areas": null,
            "grid_template_columns": null,
            "grid_template_rows": null,
            "height": null,
            "justify_content": null,
            "justify_items": null,
            "left": null,
            "margin": null,
            "max_height": null,
            "max_width": null,
            "min_height": null,
            "min_width": null,
            "object_fit": null,
            "object_position": null,
            "order": null,
            "overflow": null,
            "overflow_x": null,
            "overflow_y": null,
            "padding": null,
            "right": null,
            "top": null,
            "visibility": null,
            "width": null
          }
        },
        "5106979c85ce40c087203d3eee6a9f6e": {
          "model_module": "@jupyter-widgets/base",
          "model_name": "LayoutModel",
          "model_module_version": "1.2.0",
          "state": {
            "_model_module": "@jupyter-widgets/base",
            "_model_module_version": "1.2.0",
            "_model_name": "LayoutModel",
            "_view_count": null,
            "_view_module": "@jupyter-widgets/base",
            "_view_module_version": "1.2.0",
            "_view_name": "LayoutView",
            "align_content": null,
            "align_items": null,
            "align_self": null,
            "border": null,
            "bottom": null,
            "display": null,
            "flex": null,
            "flex_flow": null,
            "grid_area": null,
            "grid_auto_columns": null,
            "grid_auto_flow": null,
            "grid_auto_rows": null,
            "grid_column": null,
            "grid_gap": null,
            "grid_row": null,
            "grid_template_areas": null,
            "grid_template_columns": null,
            "grid_template_rows": null,
            "height": null,
            "justify_content": null,
            "justify_items": null,
            "left": null,
            "margin": null,
            "max_height": null,
            "max_width": null,
            "min_height": null,
            "min_width": null,
            "object_fit": null,
            "object_position": null,
            "order": null,
            "overflow": null,
            "overflow_x": null,
            "overflow_y": null,
            "padding": null,
            "right": null,
            "top": null,
            "visibility": null,
            "width": null
          }
        },
        "65e8bfe0396e43a0a40557fa91126b7f": {
          "model_module": "@jupyter-widgets/controls",
          "model_name": "DescriptionStyleModel",
          "model_module_version": "1.5.0",
          "state": {
            "_model_module": "@jupyter-widgets/controls",
            "_model_module_version": "1.5.0",
            "_model_name": "DescriptionStyleModel",
            "_view_count": null,
            "_view_module": "@jupyter-widgets/base",
            "_view_module_version": "1.2.0",
            "_view_name": "StyleView",
            "description_width": ""
          }
        },
        "223499a6c3804a9baaaebde8b847e24e": {
          "model_module": "@jupyter-widgets/base",
          "model_name": "LayoutModel",
          "model_module_version": "1.2.0",
          "state": {
            "_model_module": "@jupyter-widgets/base",
            "_model_module_version": "1.2.0",
            "_model_name": "LayoutModel",
            "_view_count": null,
            "_view_module": "@jupyter-widgets/base",
            "_view_module_version": "1.2.0",
            "_view_name": "LayoutView",
            "align_content": null,
            "align_items": null,
            "align_self": null,
            "border": null,
            "bottom": null,
            "display": null,
            "flex": null,
            "flex_flow": null,
            "grid_area": null,
            "grid_auto_columns": null,
            "grid_auto_flow": null,
            "grid_auto_rows": null,
            "grid_column": null,
            "grid_gap": null,
            "grid_row": null,
            "grid_template_areas": null,
            "grid_template_columns": null,
            "grid_template_rows": null,
            "height": null,
            "justify_content": null,
            "justify_items": null,
            "left": null,
            "margin": null,
            "max_height": null,
            "max_width": null,
            "min_height": null,
            "min_width": null,
            "object_fit": null,
            "object_position": null,
            "order": null,
            "overflow": null,
            "overflow_x": null,
            "overflow_y": null,
            "padding": null,
            "right": null,
            "top": null,
            "visibility": null,
            "width": null
          }
        },
        "232b67d70f3d4f3381719963f706794f": {
          "model_module": "@jupyter-widgets/controls",
          "model_name": "ProgressStyleModel",
          "model_module_version": "1.5.0",
          "state": {
            "_model_module": "@jupyter-widgets/controls",
            "_model_module_version": "1.5.0",
            "_model_name": "ProgressStyleModel",
            "_view_count": null,
            "_view_module": "@jupyter-widgets/base",
            "_view_module_version": "1.2.0",
            "_view_name": "StyleView",
            "bar_color": null,
            "description_width": ""
          }
        },
        "5c292679c08340a7b2e004a6ae916582": {
          "model_module": "@jupyter-widgets/base",
          "model_name": "LayoutModel",
          "model_module_version": "1.2.0",
          "state": {
            "_model_module": "@jupyter-widgets/base",
            "_model_module_version": "1.2.0",
            "_model_name": "LayoutModel",
            "_view_count": null,
            "_view_module": "@jupyter-widgets/base",
            "_view_module_version": "1.2.0",
            "_view_name": "LayoutView",
            "align_content": null,
            "align_items": null,
            "align_self": null,
            "border": null,
            "bottom": null,
            "display": null,
            "flex": null,
            "flex_flow": null,
            "grid_area": null,
            "grid_auto_columns": null,
            "grid_auto_flow": null,
            "grid_auto_rows": null,
            "grid_column": null,
            "grid_gap": null,
            "grid_row": null,
            "grid_template_areas": null,
            "grid_template_columns": null,
            "grid_template_rows": null,
            "height": null,
            "justify_content": null,
            "justify_items": null,
            "left": null,
            "margin": null,
            "max_height": null,
            "max_width": null,
            "min_height": null,
            "min_width": null,
            "object_fit": null,
            "object_position": null,
            "order": null,
            "overflow": null,
            "overflow_x": null,
            "overflow_y": null,
            "padding": null,
            "right": null,
            "top": null,
            "visibility": null,
            "width": null
          }
        },
        "0100ef30655f4fe8b132f2695e6c1b56": {
          "model_module": "@jupyter-widgets/controls",
          "model_name": "DescriptionStyleModel",
          "model_module_version": "1.5.0",
          "state": {
            "_model_module": "@jupyter-widgets/controls",
            "_model_module_version": "1.5.0",
            "_model_name": "DescriptionStyleModel",
            "_view_count": null,
            "_view_module": "@jupyter-widgets/base",
            "_view_module_version": "1.2.0",
            "_view_name": "StyleView",
            "description_width": ""
          }
        },
        "c56911ad82404830ad97f036617bf41c": {
          "model_module": "@jupyter-widgets/controls",
          "model_name": "HBoxModel",
          "model_module_version": "1.5.0",
          "state": {
            "_dom_classes": [],
            "_model_module": "@jupyter-widgets/controls",
            "_model_module_version": "1.5.0",
            "_model_name": "HBoxModel",
            "_view_count": null,
            "_view_module": "@jupyter-widgets/controls",
            "_view_module_version": "1.5.0",
            "_view_name": "HBoxView",
            "box_style": "",
            "children": [
              "IPY_MODEL_d7e89ba8aa454edab74da61b6524c842",
              "IPY_MODEL_734766d3936b495eb82c32d389d9f606",
              "IPY_MODEL_5d300724ddbd4ab9bd23fdb4ebf970ac"
            ],
            "layout": "IPY_MODEL_59204f5f282e4f88b628d72c20578c3c"
          }
        },
        "d7e89ba8aa454edab74da61b6524c842": {
          "model_module": "@jupyter-widgets/controls",
          "model_name": "HTMLModel",
          "model_module_version": "1.5.0",
          "state": {
            "_dom_classes": [],
            "_model_module": "@jupyter-widgets/controls",
            "_model_module_version": "1.5.0",
            "_model_name": "HTMLModel",
            "_view_count": null,
            "_view_module": "@jupyter-widgets/controls",
            "_view_module_version": "1.5.0",
            "_view_name": "HTMLView",
            "description": "",
            "description_tooltip": null,
            "layout": "IPY_MODEL_8b86fe92228747bfab5864680101cf0c",
            "placeholder": "​",
            "style": "IPY_MODEL_654619a638124da6b07d6d26a3c8833c",
            "value": "Map: 100%"
          }
        },
        "734766d3936b495eb82c32d389d9f606": {
          "model_module": "@jupyter-widgets/controls",
          "model_name": "FloatProgressModel",
          "model_module_version": "1.5.0",
          "state": {
            "_dom_classes": [],
            "_model_module": "@jupyter-widgets/controls",
            "_model_module_version": "1.5.0",
            "_model_name": "FloatProgressModel",
            "_view_count": null,
            "_view_module": "@jupyter-widgets/controls",
            "_view_module_version": "1.5.0",
            "_view_name": "ProgressView",
            "bar_style": "success",
            "description": "",
            "description_tooltip": null,
            "layout": "IPY_MODEL_46613b3b36f94297a4704e86dd23bfb0",
            "max": 2000,
            "min": 0,
            "orientation": "horizontal",
            "style": "IPY_MODEL_fcd783e8c1e64aedbf916cd22d87d0d0",
            "value": 2000
          }
        },
        "5d300724ddbd4ab9bd23fdb4ebf970ac": {
          "model_module": "@jupyter-widgets/controls",
          "model_name": "HTMLModel",
          "model_module_version": "1.5.0",
          "state": {
            "_dom_classes": [],
            "_model_module": "@jupyter-widgets/controls",
            "_model_module_version": "1.5.0",
            "_model_name": "HTMLModel",
            "_view_count": null,
            "_view_module": "@jupyter-widgets/controls",
            "_view_module_version": "1.5.0",
            "_view_name": "HTMLView",
            "description": "",
            "description_tooltip": null,
            "layout": "IPY_MODEL_d592813c07ce498fba9aaf8cff914323",
            "placeholder": "​",
            "style": "IPY_MODEL_6a6379e2d00246f6a1fd6fc8f0265b78",
            "value": " 2000/2000 [00:00&lt;00:00, 3842.03 examples/s]"
          }
        },
        "59204f5f282e4f88b628d72c20578c3c": {
          "model_module": "@jupyter-widgets/base",
          "model_name": "LayoutModel",
          "model_module_version": "1.2.0",
          "state": {
            "_model_module": "@jupyter-widgets/base",
            "_model_module_version": "1.2.0",
            "_model_name": "LayoutModel",
            "_view_count": null,
            "_view_module": "@jupyter-widgets/base",
            "_view_module_version": "1.2.0",
            "_view_name": "LayoutView",
            "align_content": null,
            "align_items": null,
            "align_self": null,
            "border": null,
            "bottom": null,
            "display": null,
            "flex": null,
            "flex_flow": null,
            "grid_area": null,
            "grid_auto_columns": null,
            "grid_auto_flow": null,
            "grid_auto_rows": null,
            "grid_column": null,
            "grid_gap": null,
            "grid_row": null,
            "grid_template_areas": null,
            "grid_template_columns": null,
            "grid_template_rows": null,
            "height": null,
            "justify_content": null,
            "justify_items": null,
            "left": null,
            "margin": null,
            "max_height": null,
            "max_width": null,
            "min_height": null,
            "min_width": null,
            "object_fit": null,
            "object_position": null,
            "order": null,
            "overflow": null,
            "overflow_x": null,
            "overflow_y": null,
            "padding": null,
            "right": null,
            "top": null,
            "visibility": null,
            "width": null
          }
        },
        "8b86fe92228747bfab5864680101cf0c": {
          "model_module": "@jupyter-widgets/base",
          "model_name": "LayoutModel",
          "model_module_version": "1.2.0",
          "state": {
            "_model_module": "@jupyter-widgets/base",
            "_model_module_version": "1.2.0",
            "_model_name": "LayoutModel",
            "_view_count": null,
            "_view_module": "@jupyter-widgets/base",
            "_view_module_version": "1.2.0",
            "_view_name": "LayoutView",
            "align_content": null,
            "align_items": null,
            "align_self": null,
            "border": null,
            "bottom": null,
            "display": null,
            "flex": null,
            "flex_flow": null,
            "grid_area": null,
            "grid_auto_columns": null,
            "grid_auto_flow": null,
            "grid_auto_rows": null,
            "grid_column": null,
            "grid_gap": null,
            "grid_row": null,
            "grid_template_areas": null,
            "grid_template_columns": null,
            "grid_template_rows": null,
            "height": null,
            "justify_content": null,
            "justify_items": null,
            "left": null,
            "margin": null,
            "max_height": null,
            "max_width": null,
            "min_height": null,
            "min_width": null,
            "object_fit": null,
            "object_position": null,
            "order": null,
            "overflow": null,
            "overflow_x": null,
            "overflow_y": null,
            "padding": null,
            "right": null,
            "top": null,
            "visibility": null,
            "width": null
          }
        },
        "654619a638124da6b07d6d26a3c8833c": {
          "model_module": "@jupyter-widgets/controls",
          "model_name": "DescriptionStyleModel",
          "model_module_version": "1.5.0",
          "state": {
            "_model_module": "@jupyter-widgets/controls",
            "_model_module_version": "1.5.0",
            "_model_name": "DescriptionStyleModel",
            "_view_count": null,
            "_view_module": "@jupyter-widgets/base",
            "_view_module_version": "1.2.0",
            "_view_name": "StyleView",
            "description_width": ""
          }
        },
        "46613b3b36f94297a4704e86dd23bfb0": {
          "model_module": "@jupyter-widgets/base",
          "model_name": "LayoutModel",
          "model_module_version": "1.2.0",
          "state": {
            "_model_module": "@jupyter-widgets/base",
            "_model_module_version": "1.2.0",
            "_model_name": "LayoutModel",
            "_view_count": null,
            "_view_module": "@jupyter-widgets/base",
            "_view_module_version": "1.2.0",
            "_view_name": "LayoutView",
            "align_content": null,
            "align_items": null,
            "align_self": null,
            "border": null,
            "bottom": null,
            "display": null,
            "flex": null,
            "flex_flow": null,
            "grid_area": null,
            "grid_auto_columns": null,
            "grid_auto_flow": null,
            "grid_auto_rows": null,
            "grid_column": null,
            "grid_gap": null,
            "grid_row": null,
            "grid_template_areas": null,
            "grid_template_columns": null,
            "grid_template_rows": null,
            "height": null,
            "justify_content": null,
            "justify_items": null,
            "left": null,
            "margin": null,
            "max_height": null,
            "max_width": null,
            "min_height": null,
            "min_width": null,
            "object_fit": null,
            "object_position": null,
            "order": null,
            "overflow": null,
            "overflow_x": null,
            "overflow_y": null,
            "padding": null,
            "right": null,
            "top": null,
            "visibility": null,
            "width": null
          }
        },
        "fcd783e8c1e64aedbf916cd22d87d0d0": {
          "model_module": "@jupyter-widgets/controls",
          "model_name": "ProgressStyleModel",
          "model_module_version": "1.5.0",
          "state": {
            "_model_module": "@jupyter-widgets/controls",
            "_model_module_version": "1.5.0",
            "_model_name": "ProgressStyleModel",
            "_view_count": null,
            "_view_module": "@jupyter-widgets/base",
            "_view_module_version": "1.2.0",
            "_view_name": "StyleView",
            "bar_color": null,
            "description_width": ""
          }
        },
        "d592813c07ce498fba9aaf8cff914323": {
          "model_module": "@jupyter-widgets/base",
          "model_name": "LayoutModel",
          "model_module_version": "1.2.0",
          "state": {
            "_model_module": "@jupyter-widgets/base",
            "_model_module_version": "1.2.0",
            "_model_name": "LayoutModel",
            "_view_count": null,
            "_view_module": "@jupyter-widgets/base",
            "_view_module_version": "1.2.0",
            "_view_name": "LayoutView",
            "align_content": null,
            "align_items": null,
            "align_self": null,
            "border": null,
            "bottom": null,
            "display": null,
            "flex": null,
            "flex_flow": null,
            "grid_area": null,
            "grid_auto_columns": null,
            "grid_auto_flow": null,
            "grid_auto_rows": null,
            "grid_column": null,
            "grid_gap": null,
            "grid_row": null,
            "grid_template_areas": null,
            "grid_template_columns": null,
            "grid_template_rows": null,
            "height": null,
            "justify_content": null,
            "justify_items": null,
            "left": null,
            "margin": null,
            "max_height": null,
            "max_width": null,
            "min_height": null,
            "min_width": null,
            "object_fit": null,
            "object_position": null,
            "order": null,
            "overflow": null,
            "overflow_x": null,
            "overflow_y": null,
            "padding": null,
            "right": null,
            "top": null,
            "visibility": null,
            "width": null
          }
        },
        "6a6379e2d00246f6a1fd6fc8f0265b78": {
          "model_module": "@jupyter-widgets/controls",
          "model_name": "DescriptionStyleModel",
          "model_module_version": "1.5.0",
          "state": {
            "_model_module": "@jupyter-widgets/controls",
            "_model_module_version": "1.5.0",
            "_model_name": "DescriptionStyleModel",
            "_view_count": null,
            "_view_module": "@jupyter-widgets/base",
            "_view_module_version": "1.2.0",
            "_view_name": "StyleView",
            "description_width": ""
          }
        }
      }
    }
  },
  "cells": [
    {
      "cell_type": "code",
      "execution_count": 45,
      "metadata": {
        "colab": {
          "base_uri": "https://localhost:8080/"
        },
        "id": "4i5o3E0BsyKW",
        "outputId": "bd1d6819-c980-47ba-b38a-82d6bd4e841e"
      },
      "outputs": [
        {
          "output_type": "stream",
          "name": "stdout",
          "text": [
            "\u001b[2K   \u001b[90m━━━━━━━━━━━━━━━━━━━━━━━━━━━━━━━━━━━━━━━━\u001b[0m \u001b[32m865.2/865.2 MB\u001b[0m \u001b[31m1.2 MB/s\u001b[0m eta \u001b[36m0:00:00\u001b[0m\n",
            "\u001b[2K   \u001b[90m━━━━━━━━━━━━━━━━━━━━━━━━━━━━━━━━━━━━━━━━\u001b[0m \u001b[32m393.1/393.1 MB\u001b[0m \u001b[31m3.7 MB/s\u001b[0m eta \u001b[36m0:00:00\u001b[0m\n",
            "\u001b[2K   \u001b[90m━━━━━━━━━━━━━━━━━━━━━━━━━━━━━━━━━━━━━━━━\u001b[0m \u001b[32m8.9/8.9 MB\u001b[0m \u001b[31m98.9 MB/s\u001b[0m eta \u001b[36m0:00:00\u001b[0m\n",
            "\u001b[2K   \u001b[90m━━━━━━━━━━━━━━━━━━━━━━━━━━━━━━━━━━━━━━━━\u001b[0m \u001b[32m23.7/23.7 MB\u001b[0m \u001b[31m69.8 MB/s\u001b[0m eta \u001b[36m0:00:00\u001b[0m\n",
            "\u001b[2K   \u001b[90m━━━━━━━━━━━━━━━━━━━━━━━━━━━━━━━━━━━━━━━━\u001b[0m \u001b[32m897.7/897.7 kB\u001b[0m \u001b[31m48.6 MB/s\u001b[0m eta \u001b[36m0:00:00\u001b[0m\n",
            "\u001b[2K   \u001b[90m━━━━━━━━━━━━━━━━━━━━━━━━━━━━━━━━━━━━━━━━\u001b[0m \u001b[32m571.0/571.0 MB\u001b[0m \u001b[31m2.2 MB/s\u001b[0m eta \u001b[36m0:00:00\u001b[0m\n",
            "\u001b[2K   \u001b[90m━━━━━━━━━━━━━━━━━━━━━━━━━━━━━━━━━━━━━━━━\u001b[0m \u001b[32m200.2/200.2 MB\u001b[0m \u001b[31m8.0 MB/s\u001b[0m eta \u001b[36m0:00:00\u001b[0m\n",
            "\u001b[2K   \u001b[90m━━━━━━━━━━━━━━━━━━━━━━━━━━━━━━━━━━━━━━━━\u001b[0m \u001b[32m1.1/1.1 MB\u001b[0m \u001b[31m64.2 MB/s\u001b[0m eta \u001b[36m0:00:00\u001b[0m\n",
            "\u001b[2K   \u001b[90m━━━━━━━━━━━━━━━━━━━━━━━━━━━━━━━━━━━━━━━━\u001b[0m \u001b[32m56.3/56.3 MB\u001b[0m \u001b[31m14.5 MB/s\u001b[0m eta \u001b[36m0:00:00\u001b[0m\n",
            "\u001b[2K   \u001b[90m━━━━━━━━━━━━━━━━━━━━━━━━━━━━━━━━━━━━━━━━\u001b[0m \u001b[32m158.2/158.2 MB\u001b[0m \u001b[31m7.7 MB/s\u001b[0m eta \u001b[36m0:00:00\u001b[0m\n",
            "\u001b[2K   \u001b[90m━━━━━━━━━━━━━━━━━━━━━━━━━━━━━━━━━━━━━━━━\u001b[0m \u001b[32m216.6/216.6 MB\u001b[0m \u001b[31m5.7 MB/s\u001b[0m eta \u001b[36m0:00:00\u001b[0m\n",
            "\u001b[2K   \u001b[90m━━━━━━━━━━━━━━━━━━━━━━━━━━━━━━━━━━━━━━━━\u001b[0m \u001b[32m156.8/156.8 MB\u001b[0m \u001b[31m7.3 MB/s\u001b[0m eta \u001b[36m0:00:00\u001b[0m\n",
            "\u001b[2K   \u001b[90m━━━━━━━━━━━━━━━━━━━━━━━━━━━━━━━━━━━━━━━━\u001b[0m \u001b[32m201.3/201.3 MB\u001b[0m \u001b[31m6.6 MB/s\u001b[0m eta \u001b[36m0:00:00\u001b[0m\n",
            "\u001b[2K   \u001b[90m━━━━━━━━━━━━━━━━━━━━━━━━━━━━━━━━━━━━━━━━\u001b[0m \u001b[32m19.7/19.7 MB\u001b[0m \u001b[31m71.8 MB/s\u001b[0m eta \u001b[36m0:00:00\u001b[0m\n",
            "\u001b[2K   \u001b[90m━━━━━━━━━━━━━━━━━━━━━━━━━━━━━━━━━━━━━━━━\u001b[0m \u001b[32m89.3/89.3 kB\u001b[0m \u001b[31m8.0 MB/s\u001b[0m eta \u001b[36m0:00:00\u001b[0m\n",
            "\u001b[2K   \u001b[90m━━━━━━━━━━━━━━━━━━━━━━━━━━━━━━━━━━━━━━━━\u001b[0m \u001b[32m156.5/156.5 MB\u001b[0m \u001b[31m7.6 MB/s\u001b[0m eta \u001b[36m0:00:00\u001b[0m\n",
            "\u001b[2K   \u001b[90m━━━━━━━━━━━━━━━━━━━━━━━━━━━━━━━━━━━━━━━━\u001b[0m \u001b[32m7.4/7.4 MB\u001b[0m \u001b[31m117.2 MB/s\u001b[0m eta \u001b[36m0:00:00\u001b[0m\n",
            "\u001b[2K   \u001b[90m━━━━━━━━━━━━━━━━━━━━━━━━━━━━━━━━━━━━━━━━\u001b[0m \u001b[32m6.3/6.3 MB\u001b[0m \u001b[31m116.2 MB/s\u001b[0m eta \u001b[36m0:00:00\u001b[0m\n",
            "\u001b[?25h\u001b[31mERROR: pip's dependency resolver does not currently take into account all the packages that are installed. This behaviour is the source of the following dependency conflicts.\n",
            "torchaudio 2.6.0+cu124 requires torch==2.6.0, but you have torch 2.7.0 which is incompatible.\n",
            "fastai 2.7.19 requires torch<2.7,>=1.10, but you have torch 2.7.0 which is incompatible.\u001b[0m\u001b[31m\n",
            "\u001b[0m"
          ]
        }
      ],
      "source": [
        "!pip install -q --upgrade torch torchvision transformers datasets\n"
      ]
    },
    {
      "cell_type": "code",
      "source": [
        "from datasets import load_dataset\n",
        "\n",
        "# Load the emotions datas\n",
        "dataset = load_dataset(\"SetFit/emotion\")\n",
        "print(dataset)"
      ],
      "metadata": {
        "colab": {
          "base_uri": "https://localhost:8080/"
        },
        "id": "kWYzfsoT2Rrr",
        "outputId": "79d04b26-c189-4ed5-d9dd-9d7f4ed26467"
      },
      "execution_count": 47,
      "outputs": [
        {
          "output_type": "stream",
          "name": "stderr",
          "text": [
            "Repo card metadata block was not found. Setting CardData to empty.\n",
            "WARNING:huggingface_hub.repocard:Repo card metadata block was not found. Setting CardData to empty.\n"
          ]
        },
        {
          "output_type": "stream",
          "name": "stdout",
          "text": [
            "DatasetDict({\n",
            "    train: Dataset({\n",
            "        features: ['text', 'label', 'label_text'],\n",
            "        num_rows: 16000\n",
            "    })\n",
            "    validation: Dataset({\n",
            "        features: ['text', 'label', 'label_text'],\n",
            "        num_rows: 2000\n",
            "    })\n",
            "    test: Dataset({\n",
            "        features: ['text', 'label', 'label_text'],\n",
            "        num_rows: 2000\n",
            "    })\n",
            "})\n"
          ]
        }
      ]
    },
    {
      "cell_type": "code",
      "source": [
        "from transformers import AutoTokenizer\n",
        "model_name = \"distilbert-base-uncased\"\n",
        "tokenizer = AutoTokenizer.from_pretrained(model_name)\n",
        "\n",
        "def preprocess_function(examples):\n",
        "    return tokenizer(examples['text'], truncation=True, padding='max_length')\n",
        "\n",
        "tokenized_datasets = dataset.map(preprocess_function, batched=True)"
      ],
      "metadata": {
        "colab": {
          "base_uri": "https://localhost:8080/",
          "height": 113,
          "referenced_widgets": [
            "cbcdd9ad9ee24f35a8bef769e466674b",
            "cb1ffaad533f44dabb109b695e1f4861",
            "3888d05488ce4d4d9a48bcedb8295250",
            "23cf0c653f664c89b08b08f57b24ea36",
            "086fd778e77a413bad4ec45c1a2a5f8e",
            "4b2499346fcc473da9314298a5248d23",
            "c89701d30c9049a19ea6fafc7a0904ce",
            "bd3ef1c77e684b6580abafd1105a76f5",
            "cec3a63c612041ffb6447574e768ddce",
            "1a106e2c1cea40ec834a96c405ea6cf7",
            "9b785632e3ca47ff9324798a296895ff",
            "a554ddf1ff8a473da0751d5f33aa5146",
            "9f479f058fc14514b3f0035155b7a65f",
            "580b2fd4e5f14881b4a0a1321e703592",
            "53215592463c41589ba8ddd89b923b37",
            "c5282c825c1847bd8c4c356a790506d1",
            "5106979c85ce40c087203d3eee6a9f6e",
            "65e8bfe0396e43a0a40557fa91126b7f",
            "223499a6c3804a9baaaebde8b847e24e",
            "232b67d70f3d4f3381719963f706794f",
            "5c292679c08340a7b2e004a6ae916582",
            "0100ef30655f4fe8b132f2695e6c1b56",
            "c56911ad82404830ad97f036617bf41c",
            "d7e89ba8aa454edab74da61b6524c842",
            "734766d3936b495eb82c32d389d9f606",
            "5d300724ddbd4ab9bd23fdb4ebf970ac",
            "59204f5f282e4f88b628d72c20578c3c",
            "8b86fe92228747bfab5864680101cf0c",
            "654619a638124da6b07d6d26a3c8833c",
            "46613b3b36f94297a4704e86dd23bfb0",
            "fcd783e8c1e64aedbf916cd22d87d0d0",
            "d592813c07ce498fba9aaf8cff914323",
            "6a6379e2d00246f6a1fd6fc8f0265b78"
          ]
        },
        "id": "xUMvO21v5j-b",
        "outputId": "e15518b7-e219-4f4c-bd40-a384224f08be"
      },
      "execution_count": 48,
      "outputs": [
        {
          "output_type": "display_data",
          "data": {
            "text/plain": [
              "Map:   0%|          | 0/16000 [00:00<?, ? examples/s]"
            ],
            "application/vnd.jupyter.widget-view+json": {
              "version_major": 2,
              "version_minor": 0,
              "model_id": "cbcdd9ad9ee24f35a8bef769e466674b"
            }
          },
          "metadata": {}
        },
        {
          "output_type": "display_data",
          "data": {
            "text/plain": [
              "Map:   0%|          | 0/2000 [00:00<?, ? examples/s]"
            ],
            "application/vnd.jupyter.widget-view+json": {
              "version_major": 2,
              "version_minor": 0,
              "model_id": "a554ddf1ff8a473da0751d5f33aa5146"
            }
          },
          "metadata": {}
        },
        {
          "output_type": "display_data",
          "data": {
            "text/plain": [
              "Map:   0%|          | 0/2000 [00:00<?, ? examples/s]"
            ],
            "application/vnd.jupyter.widget-view+json": {
              "version_major": 2,
              "version_minor": 0,
              "model_id": "c56911ad82404830ad97f036617bf41c"
            }
          },
          "metadata": {}
        }
      ]
    },
    {
      "cell_type": "code",
      "source": [
        "from transformers import AutoModelForSequenceClassification\n",
        "model = AutoModelForSequenceClassification.from_pretrained(model_name, num_labels=6)"
      ],
      "metadata": {
        "colab": {
          "base_uri": "https://localhost:8080/"
        },
        "id": "n8l_MM_6693h",
        "outputId": "b0207471-a9ed-4c13-daa7-4de27d55c736"
      },
      "execution_count": 49,
      "outputs": [
        {
          "output_type": "stream",
          "name": "stderr",
          "text": [
            "Some weights of DistilBertForSequenceClassification were not initialized from the model checkpoint at distilbert-base-uncased and are newly initialized: ['classifier.bias', 'classifier.weight', 'pre_classifier.bias', 'pre_classifier.weight']\n",
            "You should probably TRAIN this model on a down-stream task to be able to use it for predictions and inference.\n"
          ]
        }
      ]
    },
    {
      "cell_type": "code",
      "source": [
        "from transformers import TrainingArguments, Trainer\n",
        "training_args = TrainingArguments(\n",
        "    output_dir=\"./results\",\n",
        "    eval_strategy=\"epoch\",\n",
        "    learning_rate=3e-5,\n",
        "    per_device_train_batch_size=16,\n",
        "    per_device_eval_batch_size=64,\n",
        "    num_train_epochs=3,\n",
        "    weight_decay=0.01,\n",
        ")\n",
        "\n",
        "trainer = Trainer(\n",
        "    model=model,\n",
        "    args=training_args,\n",
        "    train_dataset=tokenized_datasets[\"train\"],\n",
        "    eval_dataset=tokenized_datasets[\"validation\"],\n",
        "    tokenizer=tokenizer,\n",
        ")"
      ],
      "metadata": {
        "colab": {
          "base_uri": "https://localhost:8080/"
        },
        "id": "kCOnCVXy7nRZ",
        "outputId": "2e32094d-e439-40d1-b74e-d98784f7e85b"
      },
      "execution_count": 51,
      "outputs": [
        {
          "output_type": "stream",
          "name": "stderr",
          "text": [
            "<ipython-input-51-993bbe7ae7c5>:12: FutureWarning: `tokenizer` is deprecated and will be removed in version 5.0.0 for `Trainer.__init__`. Use `processing_class` instead.\n",
            "  trainer = Trainer(\n"
          ]
        }
      ]
    },
    {
      "cell_type": "code",
      "source": [
        "trainer.train()"
      ],
      "metadata": {
        "colab": {
          "base_uri": "https://localhost:8080/",
          "height": 204
        },
        "id": "c3o9Z_fVE7B1",
        "outputId": "410d0117-c315-4dbb-91c8-1dc20d815985"
      },
      "execution_count": 52,
      "outputs": [
        {
          "output_type": "display_data",
          "data": {
            "text/plain": [
              "<IPython.core.display.HTML object>"
            ],
            "text/html": [
              "\n",
              "    <div>\n",
              "      \n",
              "      <progress value='3000' max='3000' style='width:300px; height:20px; vertical-align: middle;'></progress>\n",
              "      [3000/3000 11:31, Epoch 3/3]\n",
              "    </div>\n",
              "    <table border=\"1\" class=\"dataframe\">\n",
              "  <thead>\n",
              " <tr style=\"text-align: left;\">\n",
              "      <th>Epoch</th>\n",
              "      <th>Training Loss</th>\n",
              "      <th>Validation Loss</th>\n",
              "    </tr>\n",
              "  </thead>\n",
              "  <tbody>\n",
              "    <tr>\n",
              "      <td>1</td>\n",
              "      <td>0.232500</td>\n",
              "      <td>0.207850</td>\n",
              "    </tr>\n",
              "    <tr>\n",
              "      <td>2</td>\n",
              "      <td>0.138600</td>\n",
              "      <td>0.160006</td>\n",
              "    </tr>\n",
              "    <tr>\n",
              "      <td>3</td>\n",
              "      <td>0.086100</td>\n",
              "      <td>0.160175</td>\n",
              "    </tr>\n",
              "  </tbody>\n",
              "</table><p>"
            ]
          },
          "metadata": {}
        },
        {
          "output_type": "execute_result",
          "data": {
            "text/plain": [
              "TrainOutput(global_step=3000, training_loss=0.21698222478230794, metrics={'train_runtime': 692.2176, 'train_samples_per_second': 69.342, 'train_steps_per_second': 4.334, 'total_flos': 6358888710144000.0, 'train_loss': 0.21698222478230794, 'epoch': 3.0})"
            ]
          },
          "metadata": {},
          "execution_count": 52
        }
      ]
    },
    {
      "cell_type": "code",
      "source": [
        "trainer.evaluate()"
      ],
      "metadata": {
        "colab": {
          "base_uri": "https://localhost:8080/",
          "height": 124
        },
        "id": "OIGvX_vCea9J",
        "outputId": "3651677b-49a4-4551-e387-767624b6b275"
      },
      "execution_count": 53,
      "outputs": [
        {
          "output_type": "display_data",
          "data": {
            "text/plain": [
              "<IPython.core.display.HTML object>"
            ],
            "text/html": [
              "\n",
              "    <div>\n",
              "      \n",
              "      <progress value='32' max='32' style='width:300px; height:20px; vertical-align: middle;'></progress>\n",
              "      [32/32 00:10]\n",
              "    </div>\n",
              "    "
            ]
          },
          "metadata": {}
        },
        {
          "output_type": "execute_result",
          "data": {
            "text/plain": [
              "{'eval_loss': 0.16017544269561768,\n",
              " 'eval_runtime': 10.7648,\n",
              " 'eval_samples_per_second': 185.79,\n",
              " 'eval_steps_per_second': 2.973,\n",
              " 'epoch': 3.0}"
            ]
          },
          "metadata": {},
          "execution_count": 53
        }
      ]
    },
    {
      "cell_type": "code",
      "source": [
        "from sklearn.metrics import classification_report\n",
        "import numpy as np\n",
        "\n",
        "predictions = trainer.predict(tokenized_datasets['test'])\n",
        "predicted_labels = np.argmax(predictions.predictions, axis=1)\n",
        "true_labels = tokenized_datasets['test']['label']\n",
        "\n",
        "print(classification_report(true_labels, predicted_labels))\n"
      ],
      "metadata": {
        "colab": {
          "base_uri": "https://localhost:8080/",
          "height": 243
        },
        "id": "SNtv5I65e9La",
        "outputId": "8665f631-94e4-4d66-c05b-5668f115efa2"
      },
      "execution_count": 58,
      "outputs": [
        {
          "output_type": "display_data",
          "data": {
            "text/plain": [
              "<IPython.core.display.HTML object>"
            ],
            "text/html": []
          },
          "metadata": {}
        },
        {
          "output_type": "stream",
          "name": "stdout",
          "text": [
            "              precision    recall  f1-score   support\n",
            "\n",
            "           0       0.97      0.97      0.97       581\n",
            "           1       0.95      0.95      0.95       695\n",
            "           2       0.83      0.81      0.82       159\n",
            "           3       0.94      0.92      0.93       275\n",
            "           4       0.87      0.92      0.90       224\n",
            "           5       0.80      0.67      0.73        66\n",
            "\n",
            "    accuracy                           0.93      2000\n",
            "   macro avg       0.89      0.87      0.88      2000\n",
            "weighted avg       0.93      0.93      0.93      2000\n",
            "\n"
          ]
        }
      ]
    },
    {
      "cell_type": "code",
      "source": [],
      "metadata": {
        "id": "RVb8S2RD6i1q"
      },
      "execution_count": null,
      "outputs": []
    },
    {
      "cell_type": "code",
      "source": [],
      "metadata": {
        "id": "REsqWOUH6k0k"
      },
      "execution_count": null,
      "outputs": []
    },
    {
      "cell_type": "code",
      "source": [
        "from transformers import AutoTokenizer, AutoModel\n",
        "import torch\n",
        "import torch.nn.functional as F\n",
        "\n",
        "model_name = \"distilbert-base-uncased\"\n",
        "tokenizer = AutoTokenizer.from_pretrained(model_name)\n",
        "encoder = AutoModel.from_pretrained(model_name)\n",
        "encoder.eval()\n",
        "shots = {\n",
        "    \"joy\": [\n",
        "        \"I absolutely loved this!\",\n",
        "        \"This makes me so happy.\"\n",
        "    ],\n",
        "    \"sadness\": [\n",
        "        \"I'm feeling really down today.\",\n",
        "        \"This is so depressing.\"\n",
        "    ],\n",
        "    \"anger\": [\n",
        "        \"This makes me furious!\",\n",
        "        \"I can't stand this.\"\n",
        "    ],\n",
        "    \"fear\": [\n",
        "        \"I'm terrified of what's next.\",\n",
        "        \"This scares me so much.\"\n",
        "    ],\n",
        "    \"surprise\": [\n",
        "        \"Wow, I did not see that coming!\",\n",
        "        \"That's a shocking turn of events.\"\n",
        "    ],\n",
        "    \"love\": [\n",
        "        \"I adore you.\",\n",
        "        \"My heart is full of love.\"\n",
        "    ],\n",
        "}\n"
      ],
      "metadata": {
        "id": "gKInCeN3hsV8"
      },
      "execution_count": 62,
      "outputs": []
    },
    {
      "cell_type": "code",
      "source": [
        "def embed_texts(texts):\n",
        "\n",
        "    enc = tokenizer(texts, truncation=True, padding=True, return_tensors=\"pt\")\n",
        "    with torch.no_grad():\n",
        "        out = encoder(**enc).last_hidden_state\n",
        "    mask = enc.attention_mask.unsqueeze(-1)\n",
        "    summed = (out * mask).sum(1)\n",
        "    lengths = mask.sum(1)\n",
        "    return summed / lengths\n",
        "\n",
        "\n",
        "prototypes = {}\n",
        "for label, examples in shots.items():\n",
        "    emb = embed_texts(examples)\n",
        "    prototypes[label] = emb.mean(0, keepdim=True)\n"
      ],
      "metadata": {
        "id": "Gx55DiUQ4l3f"
      },
      "execution_count": 63,
      "outputs": []
    },
    {
      "cell_type": "code",
      "source": [
        "\n",
        "\n",
        "\n",
        "text = \"I can't believe what a wonderful surprise!\"\n",
        "pred_label, similarities = classify(text)\n",
        "print(f\"→ Predicted emotion: {pred_label}\")\n",
        "print(\" Similarities:\", similarities)\n"
      ],
      "metadata": {
        "colab": {
          "base_uri": "https://localhost:8080/"
        },
        "id": "-DxiJguD4pSW",
        "outputId": "7b0cf7b6-e81e-48cd-9e0c-5441348ecdf6"
      },
      "execution_count": 65,
      "outputs": [
        {
          "output_type": "stream",
          "name": "stdout",
          "text": [
            "→ Predicted emotion: joy\n",
            " Similarities: {'joy': 0.8320035338401794, 'sadness': 0.7193830013275146, 'anger': 0.7771488428115845, 'fear': 0.7037515640258789, 'surprise': 0.819640040397644, 'love': 0.7189898490905762}\n"
          ]
        }
      ]
    },
    {
      "cell_type": "code",
      "source": [
        "\n",
        "\n",
        "test_texts = dataset['test']['text'][:30]\n",
        "true_labels = dataset['test']['label_text'][:30]\n",
        "\n",
        "def classify(text):\n",
        "    q_emb = embed_texts([text])\n",
        "    sims = {\n",
        "        label: F.cosine_similarity(q_emb, proto).item()\n",
        "        for label, proto in prototypes.items()\n",
        "    }\n",
        "\n",
        "    return max(sims, key=sims.get), sims\n",
        "\n",
        "correct = []\n",
        "incorrect = []\n",
        "\n",
        "for text, true_label in zip(test_texts, true_labels):\n",
        "    pred_label, similarities = classify(text)\n",
        "    entry = {\n",
        "        \"text\": text,\n",
        "        \"true_label\": true_label,\n",
        "        \"pred_label\": pred_label,\n",
        "        \"similarities\": similarities\n",
        "    }\n",
        "    if pred_label == true_label:\n",
        "        correct.append(entry)\n",
        "    else:\n",
        "        incorrect.append(entry)\n",
        "\n",
        "print(\"=== CORRECTLY CLASSIFIED ===\")\n",
        "for e in correct:\n",
        "    print(f\"Text: {e['text']}\")\n",
        "    print(f\"True label: {e['true_label']}, Predicted: {e['pred_label']}\")\n",
        "    print(f\"Similarities: {e['similarities']}\\n\")\n",
        "\n",
        "print(\"=== MISCLASSIFIED ===\")\n",
        "for e in incorrect:\n",
        "    print(f\"Text: {e['text']}\")\n",
        "    print(f\"True label: {e['true_label']}, Predicted: {e['pred_label']}\")\n",
        "    print(f\"Similarities: {e['similarities']}\\n\")\n"
      ],
      "metadata": {
        "colab": {
          "base_uri": "https://localhost:8080/"
        },
        "id": "40haCxMb6nYA",
        "outputId": "9cd57f99-962a-4033-f05c-96bdef9e447c"
      },
      "execution_count": 70,
      "outputs": [
        {
          "output_type": "stream",
          "name": "stdout",
          "text": [
            "=== CORRECTLY CLASSIFIED ===\n",
            "Text: im feeling rather rotten so im not very ambitious right now\n",
            "True label: sadness, Predicted: sadness\n",
            "Similarities: {'joy': 0.6646848917007446, 'sadness': 0.7591801285743713, 'anger': 0.6592384576797485, 'fear': 0.6923345923423767, 'surprise': 0.7560080885887146, 'love': 0.6483321189880371}\n",
            "\n",
            "Text: im updating my blog because i feel shitty\n",
            "True label: sadness, Predicted: sadness\n",
            "Similarities: {'joy': 0.7109242081642151, 'sadness': 0.789641797542572, 'anger': 0.7315794825553894, 'fear': 0.7154142260551453, 'surprise': 0.7391993403434753, 'love': 0.7086437940597534}\n",
            "\n",
            "Text: i pay attention it deepens into a feeling of being invaded and helpless\n",
            "True label: fear, Predicted: fear\n",
            "Similarities: {'joy': 0.686904788017273, 'sadness': 0.7105132341384888, 'anger': 0.7120696902275085, 'fear': 0.7462707757949829, 'surprise': 0.7423681616783142, 'love': 0.70989990234375}\n",
            "\n",
            "Text: i feel like reds and purples are just so rich and kind of perfect\n",
            "True label: joy, Predicted: joy\n",
            "Similarities: {'joy': 0.7618374824523926, 'sadness': 0.7511834502220154, 'anger': 0.6833677291870117, 'fear': 0.7144763469696045, 'surprise': 0.7483155727386475, 'love': 0.6983499526977539}\n",
            "\n",
            "Text: i hate it when i feel fearful for absolutely no reason\n",
            "True label: fear, Predicted: fear\n",
            "Similarities: {'joy': 0.7768059372901917, 'sadness': 0.7723276615142822, 'anger': 0.7954334616661072, 'fear': 0.8045356273651123, 'surprise': 0.7854467630386353, 'love': 0.770300567150116}\n",
            "\n",
            "Text: i am feeling outraged it shows everywhere\n",
            "True label: anger, Predicted: anger\n",
            "Similarities: {'joy': 0.7940139174461365, 'sadness': 0.7737773656845093, 'anger': 0.7986889481544495, 'fear': 0.730574369430542, 'surprise': 0.791569173336029, 'love': 0.7697243094444275}\n",
            "\n",
            "=== MISCLASSIFIED ===\n",
            "Text: i never make her separate from me because i don t ever want her to feel like i m ashamed with her\n",
            "True label: sadness, Predicted: fear\n",
            "Similarities: {'joy': 0.7157152891159058, 'sadness': 0.6904866099357605, 'anger': 0.7331337332725525, 'fear': 0.760840654373169, 'surprise': 0.6868996620178223, 'love': 0.697334885597229}\n",
            "\n",
            "Text: i left with my bouquet of red and yellow tulips under my arm feeling slightly more optimistic than when i arrived\n",
            "True label: joy, Predicted: surprise\n",
            "Similarities: {'joy': 0.6930296421051025, 'sadness': 0.6902551651000977, 'anger': 0.6274917721748352, 'fear': 0.6674869060516357, 'surprise': 0.7453145384788513, 'love': 0.6831960678100586}\n",
            "\n",
            "Text: i was feeling a little vain when i did this one\n",
            "True label: sadness, Predicted: surprise\n",
            "Similarities: {'joy': 0.7695868611335754, 'sadness': 0.7887879610061646, 'anger': 0.7049703598022461, 'fear': 0.7322689890861511, 'surprise': 0.8113468885421753, 'love': 0.7061528563499451}\n",
            "\n",
            "Text: i cant walk into a shop anywhere where i do not feel uncomfortable\n",
            "True label: fear, Predicted: surprise\n",
            "Similarities: {'joy': 0.665221095085144, 'sadness': 0.7264404892921448, 'anger': 0.6953908801078796, 'fear': 0.7018529176712036, 'surprise': 0.7300663590431213, 'love': 0.6777918934822083}\n",
            "\n",
            "Text: i felt anger when at the end of a telephone call\n",
            "True label: anger, Predicted: surprise\n",
            "Similarities: {'joy': 0.6824843287467957, 'sadness': 0.7219115495681763, 'anger': 0.6846122145652771, 'fear': 0.7070116996765137, 'surprise': 0.7792317867279053, 'love': 0.6702907681465149}\n",
            "\n",
            "Text: i explain why i clung to a relationship with a boy who was in many ways immature and uncommitted despite the excitement i should have been feeling for getting accepted into the masters program at the university of virginia\n",
            "True label: joy, Predicted: surprise\n",
            "Similarities: {'joy': 0.6416841745376587, 'sadness': 0.6398078203201294, 'anger': 0.6141135692596436, 'fear': 0.6587910056114197, 'surprise': 0.7438440322875977, 'love': 0.6231626868247986}\n",
            "\n",
            "Text: i like to have the same breathless feeling as a reader eager to see what will happen next\n",
            "True label: joy, Predicted: surprise\n",
            "Similarities: {'joy': 0.6867690682411194, 'sadness': 0.6867545247077942, 'anger': 0.6435521841049194, 'fear': 0.7211311459541321, 'surprise': 0.7670365571975708, 'love': 0.7029924392700195}\n",
            "\n",
            "Text: i jest i feel grumpy tired and pre menstrual which i probably am but then again its only been a week and im about as fit as a walrus on vacation for the summer\n",
            "True label: anger, Predicted: surprise\n",
            "Similarities: {'joy': 0.6246466636657715, 'sadness': 0.6990264654159546, 'anger': 0.6164670586585999, 'fear': 0.6599323153495789, 'surprise': 0.7382037043571472, 'love': 0.6068602800369263}\n",
            "\n",
            "Text: i don t feel particularly agitated\n",
            "True label: fear, Predicted: sadness\n",
            "Similarities: {'joy': 0.683560311794281, 'sadness': 0.789721667766571, 'anger': 0.693549633026123, 'fear': 0.6935807466506958, 'surprise': 0.7282081842422485, 'love': 0.7012900114059448}\n",
            "\n",
            "Text: i feel beautifully emotional knowing that these women of whom i knew just a handful were holding me and my baba on our journey\n",
            "True label: sadness, Predicted: surprise\n",
            "Similarities: {'joy': 0.6927418112754822, 'sadness': 0.6389579772949219, 'anger': 0.6209718585014343, 'fear': 0.6618698835372925, 'surprise': 0.7260697484016418, 'love': 0.7027079463005066}\n",
            "\n",
            "Text: i just feel extremely comfortable with the group of people that i dont even need to hide myself\n",
            "True label: joy, Predicted: surprise\n",
            "Similarities: {'joy': 0.6796305179595947, 'sadness': 0.7154414653778076, 'anger': 0.6723839640617371, 'fear': 0.7075536251068115, 'surprise': 0.7303281426429749, 'love': 0.6686503291130066}\n",
            "\n",
            "Text: i find myself in the odd position of feeling supportive of\n",
            "True label: love, Predicted: surprise\n",
            "Similarities: {'joy': 0.6721937656402588, 'sadness': 0.7452013492584229, 'anger': 0.6885570287704468, 'fear': 0.7326195240020752, 'surprise': 0.755029559135437, 'love': 0.6827351450920105}\n",
            "\n",
            "Text: i was feeling as heartbroken as im sure katniss was\n",
            "True label: sadness, Predicted: surprise\n",
            "Similarities: {'joy': 0.7229713201522827, 'sadness': 0.7481291890144348, 'anger': 0.6967383027076721, 'fear': 0.7284318804740906, 'surprise': 0.7734552025794983, 'love': 0.7079902291297913}\n",
            "\n",
            "Text: i feel a little mellow today\n",
            "True label: joy, Predicted: sadness\n",
            "Similarities: {'joy': 0.7041321396827698, 'sadness': 0.8027603626251221, 'anger': 0.6616900563240051, 'fear': 0.7139641046524048, 'surprise': 0.7166773676872253, 'love': 0.7182871103286743}\n",
            "\n",
            "Text: i feel like my only role now would be to tear your sails with my pessimism and discontent\n",
            "True label: sadness, Predicted: surprise\n",
            "Similarities: {'joy': 0.6483646631240845, 'sadness': 0.6728147864341736, 'anger': 0.6612071394920349, 'fear': 0.6567767858505249, 'surprise': 0.733822226524353, 'love': 0.6999602317810059}\n",
            "\n",
            "Text: i feel just bcoz a fight we get mad to each other n u wanna make a publicity n let the world knows about our fight\n",
            "True label: anger, Predicted: surprise\n",
            "Similarities: {'joy': 0.637237548828125, 'sadness': 0.6090927720069885, 'anger': 0.6156920790672302, 'fear': 0.623992383480072, 'surprise': 0.6824306845664978, 'love': 0.5955798625946045}\n",
            "\n",
            "Text: im not sure the feeling of loss will ever go away but it may dull to a sweet feeling of nostalgia at what i shared in this life with my dad and the luck i had to have a dad for years\n",
            "True label: sadness, Predicted: surprise\n",
            "Similarities: {'joy': 0.6681066751480103, 'sadness': 0.6655510067939758, 'anger': 0.6161656379699707, 'fear': 0.6802027225494385, 'surprise': 0.7285045981407166, 'love': 0.6799255609512329}\n",
            "\n",
            "Text: i feel like ive gotten to know many of you through comments and emails and for that im appreciative and glad you are a part of this little space\n",
            "True label: joy, Predicted: surprise\n",
            "Similarities: {'joy': 0.6795799136161804, 'sadness': 0.6616541743278503, 'anger': 0.6086241602897644, 'fear': 0.6377148628234863, 'surprise': 0.7396273612976074, 'love': 0.7003427743911743}\n",
            "\n",
            "Text: i survey my own posts over the last few years and only feel pleased with vague snippets of a few of them only feel that little bits of them capture what its like to be me or someone like me in dublin in the st century\n",
            "True label: joy, Predicted: surprise\n",
            "Similarities: {'joy': 0.6116718053817749, 'sadness': 0.6549127101898193, 'anger': 0.609983503818512, 'fear': 0.6625662446022034, 'surprise': 0.7300539016723633, 'love': 0.6012617945671082}\n",
            "\n",
            "Text: i also tell you in hopes that anyone who is still feeling stigmatized or ashamed of their mental health issues will let go of the stigma let go of the shame\n",
            "True label: sadness, Predicted: surprise\n",
            "Similarities: {'joy': 0.6222708821296692, 'sadness': 0.6508796215057373, 'anger': 0.6233121156692505, 'fear': 0.6530300378799438, 'surprise': 0.7113417387008667, 'love': 0.6412815451622009}\n",
            "\n",
            "Text: i don t feel guilty like i m not going to be able to cook for him\n",
            "True label: sadness, Predicted: fear\n",
            "Similarities: {'joy': 0.7442598938941956, 'sadness': 0.7753626108169556, 'anger': 0.770908772945404, 'fear': 0.7948739528656006, 'surprise': 0.7415314316749573, 'love': 0.7072659730911255}\n",
            "\n",
            "Text: i stole a book from one of my all time favorite authors and now i feel like a rotten person\n",
            "True label: sadness, Predicted: surprise\n",
            "Similarities: {'joy': 0.7491263151168823, 'sadness': 0.7579399347305298, 'anger': 0.7423920035362244, 'fear': 0.7353700995445251, 'surprise': 0.7828174233436584, 'love': 0.7137089967727661}\n",
            "\n",
            "Text: i do feel insecure sometimes but who doesnt\n",
            "True label: fear, Predicted: sadness\n",
            "Similarities: {'joy': 0.7088527679443359, 'sadness': 0.7507161498069763, 'anger': 0.6870852708816528, 'fear': 0.7276055812835693, 'surprise': 0.7253516316413879, 'love': 0.7346359491348267}\n",
            "\n",
            "Text: i highly recommend visiting on a wednesday if youre able because its less crowded so you get to ask the farmers more questions without feeling rude for holding up a line\n",
            "True label: anger, Predicted: surprise\n",
            "Similarities: {'joy': 0.5852091312408447, 'sadness': 0.6612208485603333, 'anger': 0.5831640362739563, 'fear': 0.6101585626602173, 'surprise': 0.7050767540931702, 'love': 0.5778898000717163}\n",
            "\n"
          ]
        }
      ]
    }
  ]
}